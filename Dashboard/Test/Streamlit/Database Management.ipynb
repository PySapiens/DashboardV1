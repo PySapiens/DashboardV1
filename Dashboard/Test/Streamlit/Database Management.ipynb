{
 "cells": [
  {
   "cell_type": "code",
   "execution_count": 1,
   "id": "7950b163",
   "metadata": {},
   "outputs": [],
   "source": [
    "import pandas as pd\n",
    "from sqlalchemy import create_engine\n",
    "import yfinance as yf\n",
    "#FRED\n",
    "from fredapi import Fred\n",
    "fred_key = ''"
   ]
  },
  {
   "cell_type": "code",
   "execution_count": 2,
   "id": "bfffb830",
   "metadata": {},
   "outputs": [],
   "source": [
    "engine = create_engine('sqlite:///Database.db')"
   ]
  },
  {
   "cell_type": "code",
   "execution_count": 12,
   "id": "5e21abdb",
   "metadata": {},
   "outputs": [],
   "source": [
    "fred_ids = ['WALCL','WTREGEN', 'RRPONTSYD', 'SP500']"
   ]
  },
  {
   "cell_type": "code",
   "execution_count": 13,
   "id": "12eca598",
   "metadata": {},
   "outputs": [],
   "source": [
    "def fred_downloader(ids, start):\n",
    "    try:\n",
    "        from fredapi import Fred\n",
    "        fred_key = '9a9c69745bc32b9678c0207caa1a119a'\n",
    "        fred = Fred(api_key=fred_key)\n",
    "        all_results = []\n",
    "        for myid in ids:\n",
    "            results = fred.get_series(series_id=myid, observation_start=start)\n",
    "            results = results.to_frame(name=myid)\n",
    "            all_results.append(results)\n",
    "        df = pd.concat(all_results, axis=1)\n",
    "        df = df.fillna(method='bfill')\n",
    "        df = df.fillna(method='ffill')\n",
    "        df = df.dropna()\n",
    "        df['NET_LIQ'] = (df.WALCL - df.WTREGEN * 1000 - df.RRPONTSYD * 1000)/(1000*1000)\n",
    "        df['SP_FV'] = df.SP500 - ((df.WALCL - df.WTREGEN * 1000 - df.RRPONTSYD * 1000)/1000/1.1-1625)\n",
    "        return df\n",
    "    except:\n",
    "        pass"
   ]
  },
  {
   "cell_type": "code",
   "execution_count": 14,
   "id": "76227f56",
   "metadata": {},
   "outputs": [
    {
     "data": {
      "text/html": [
       "<div>\n",
       "<style scoped>\n",
       "    .dataframe tbody tr th:only-of-type {\n",
       "        vertical-align: middle;\n",
       "    }\n",
       "\n",
       "    .dataframe tbody tr th {\n",
       "        vertical-align: top;\n",
       "    }\n",
       "\n",
       "    .dataframe thead th {\n",
       "        text-align: right;\n",
       "    }\n",
       "</style>\n",
       "<table border=\"1\" class=\"dataframe\">\n",
       "  <thead>\n",
       "    <tr style=\"text-align: right;\">\n",
       "      <th></th>\n",
       "      <th>WALCL</th>\n",
       "      <th>WTREGEN</th>\n",
       "      <th>RRPONTSYD</th>\n",
       "      <th>SP500</th>\n",
       "      <th>NET_LIQ</th>\n",
       "      <th>SP_FV</th>\n",
       "    </tr>\n",
       "  </thead>\n",
       "  <tbody>\n",
       "    <tr>\n",
       "      <th>2000-01-05</th>\n",
       "      <td>719542.0</td>\n",
       "      <td>20.943</td>\n",
       "      <td>2.500</td>\n",
       "      <td>1426.19</td>\n",
       "      <td>0.696099</td>\n",
       "      <td>2418.372727</td>\n",
       "    </tr>\n",
       "    <tr>\n",
       "      <th>2000-01-12</th>\n",
       "      <td>719542.0</td>\n",
       "      <td>5.326</td>\n",
       "      <td>2.500</td>\n",
       "      <td>1426.19</td>\n",
       "      <td>0.711716</td>\n",
       "      <td>2404.175455</td>\n",
       "    </tr>\n",
       "    <tr>\n",
       "      <th>2000-01-19</th>\n",
       "      <td>719542.0</td>\n",
       "      <td>5.390</td>\n",
       "      <td>2.500</td>\n",
       "      <td>1426.19</td>\n",
       "      <td>0.711652</td>\n",
       "      <td>2404.233636</td>\n",
       "    </tr>\n",
       "    <tr>\n",
       "      <th>2000-01-26</th>\n",
       "      <td>719542.0</td>\n",
       "      <td>7.205</td>\n",
       "      <td>2.500</td>\n",
       "      <td>1426.19</td>\n",
       "      <td>0.709837</td>\n",
       "      <td>2405.883636</td>\n",
       "    </tr>\n",
       "    <tr>\n",
       "      <th>2000-02-02</th>\n",
       "      <td>719542.0</td>\n",
       "      <td>6.131</td>\n",
       "      <td>2.500</td>\n",
       "      <td>1426.19</td>\n",
       "      <td>0.710911</td>\n",
       "      <td>2404.907273</td>\n",
       "    </tr>\n",
       "    <tr>\n",
       "      <th>...</th>\n",
       "      <td>...</td>\n",
       "      <td>...</td>\n",
       "      <td>...</td>\n",
       "      <td>...</td>\n",
       "      <td>...</td>\n",
       "      <td>...</td>\n",
       "    </tr>\n",
       "    <tr>\n",
       "      <th>2022-12-26</th>\n",
       "      <td>8551169.0</td>\n",
       "      <td>427.926</td>\n",
       "      <td>2221.259</td>\n",
       "      <td>3829.25</td>\n",
       "      <td>5.901984</td>\n",
       "      <td>88.810000</td>\n",
       "    </tr>\n",
       "    <tr>\n",
       "      <th>2022-12-27</th>\n",
       "      <td>8551169.0</td>\n",
       "      <td>427.926</td>\n",
       "      <td>2221.259</td>\n",
       "      <td>3829.25</td>\n",
       "      <td>5.901984</td>\n",
       "      <td>88.810000</td>\n",
       "    </tr>\n",
       "    <tr>\n",
       "      <th>2022-12-28</th>\n",
       "      <td>8551169.0</td>\n",
       "      <td>427.926</td>\n",
       "      <td>2293.003</td>\n",
       "      <td>3783.22</td>\n",
       "      <td>5.830240</td>\n",
       "      <td>108.001818</td>\n",
       "    </tr>\n",
       "    <tr>\n",
       "      <th>2022-12-29</th>\n",
       "      <td>8551169.0</td>\n",
       "      <td>427.926</td>\n",
       "      <td>2308.319</td>\n",
       "      <td>3849.28</td>\n",
       "      <td>5.814924</td>\n",
       "      <td>187.985455</td>\n",
       "    </tr>\n",
       "    <tr>\n",
       "      <th>2022-12-30</th>\n",
       "      <td>8551169.0</td>\n",
       "      <td>427.926</td>\n",
       "      <td>2553.716</td>\n",
       "      <td>3839.50</td>\n",
       "      <td>5.569527</td>\n",
       "      <td>401.293636</td>\n",
       "    </tr>\n",
       "  </tbody>\n",
       "</table>\n",
       "<p>5353 rows × 6 columns</p>\n",
       "</div>"
      ],
      "text/plain": [
       "                WALCL  WTREGEN  RRPONTSYD    SP500   NET_LIQ        SP_FV\n",
       "2000-01-05   719542.0   20.943      2.500  1426.19  0.696099  2418.372727\n",
       "2000-01-12   719542.0    5.326      2.500  1426.19  0.711716  2404.175455\n",
       "2000-01-19   719542.0    5.390      2.500  1426.19  0.711652  2404.233636\n",
       "2000-01-26   719542.0    7.205      2.500  1426.19  0.709837  2405.883636\n",
       "2000-02-02   719542.0    6.131      2.500  1426.19  0.710911  2404.907273\n",
       "...               ...      ...        ...      ...       ...          ...\n",
       "2022-12-26  8551169.0  427.926   2221.259  3829.25  5.901984    88.810000\n",
       "2022-12-27  8551169.0  427.926   2221.259  3829.25  5.901984    88.810000\n",
       "2022-12-28  8551169.0  427.926   2293.003  3783.22  5.830240   108.001818\n",
       "2022-12-29  8551169.0  427.926   2308.319  3849.28  5.814924   187.985455\n",
       "2022-12-30  8551169.0  427.926   2553.716  3839.50  5.569527   401.293636\n",
       "\n",
       "[5353 rows x 6 columns]"
      ]
     },
     "execution_count": 14,
     "metadata": {},
     "output_type": "execute_result"
    }
   ],
   "source": [
    "fred_downloader(fred_ids, '2000-01-01')"
   ]
  },
  {
   "cell_type": "code",
   "execution_count": 15,
   "id": "826dc04a",
   "metadata": {},
   "outputs": [],
   "source": [
    "def sql_importer_fred(symbol, start='2022-01-01'):\n",
    "    try:\n",
    "        max_date = pd.read_sql(f'SELECT MAX(Date) FROM {symbol}', engine).values[0][0]\n",
    "        print(max_date)\n",
    "        new_data = yf.download(symbol, start=pd.to_datetime(max_date))\n",
    "        new_rows = new_data[new_data.index > max_date]\n",
    "        new_rows.to_sql(symbol, engine, if_exists='append')\n",
    "        print(str(len(new_rows)) + ' new rows imported to DB')\n",
    "    except:\n",
    "        new_data = yf.download(symbol, start=start)\n",
    "        new_data.to_sql(symbol, engine)\n",
    "        print(f'New table created for {symbol} with {str(len(new_data))} rows')"
   ]
  },
  {
   "cell_type": "code",
   "execution_count": 18,
   "id": "5dc7b4ac",
   "metadata": {},
   "outputs": [
    {
     "name": "stdout",
     "output_type": "stream",
     "text": [
      "WALCL imported\n",
      "WTREGEN imported\n",
      "RRPONTSYD imported\n",
      "SP500 imported\n",
      "NET_LIQ imported\n",
      "SP_FV imported\n"
     ]
    }
   ],
   "source": [
    "for id in df.columns:\n",
    "    df.to_sql(id, engine)\n",
    "    print(id + ' imported')"
   ]
  },
  {
   "cell_type": "code",
   "execution_count": 48,
   "id": "2260c5f7",
   "metadata": {},
   "outputs": [],
   "source": [
    "fred_df = pd.read_sql('WALCL', engine).set_index('index')"
   ]
  },
  {
   "cell_type": "code",
   "execution_count": 49,
   "id": "aaf67dac",
   "metadata": {},
   "outputs": [
    {
     "data": {
      "text/html": [
       "<div>\n",
       "<style scoped>\n",
       "    .dataframe tbody tr th:only-of-type {\n",
       "        vertical-align: middle;\n",
       "    }\n",
       "\n",
       "    .dataframe tbody tr th {\n",
       "        vertical-align: top;\n",
       "    }\n",
       "\n",
       "    .dataframe thead th {\n",
       "        text-align: right;\n",
       "    }\n",
       "</style>\n",
       "<table border=\"1\" class=\"dataframe\">\n",
       "  <thead>\n",
       "    <tr style=\"text-align: right;\">\n",
       "      <th></th>\n",
       "      <th>WALCL</th>\n",
       "      <th>WTREGEN</th>\n",
       "      <th>RRPONTSYD</th>\n",
       "      <th>SP500</th>\n",
       "      <th>NET_LIQ</th>\n",
       "      <th>SP_FV</th>\n",
       "    </tr>\n",
       "    <tr>\n",
       "      <th>index</th>\n",
       "      <th></th>\n",
       "      <th></th>\n",
       "      <th></th>\n",
       "      <th></th>\n",
       "      <th></th>\n",
       "      <th></th>\n",
       "    </tr>\n",
       "  </thead>\n",
       "  <tbody>\n",
       "    <tr>\n",
       "      <th>1986-01-08</th>\n",
       "      <td>719542.0</td>\n",
       "      <td>4.140</td>\n",
       "      <td>2.500</td>\n",
       "      <td>1426.19</td>\n",
       "      <td>0.712902</td>\n",
       "      <td>2403.097273</td>\n",
       "    </tr>\n",
       "    <tr>\n",
       "      <th>1986-01-15</th>\n",
       "      <td>719542.0</td>\n",
       "      <td>5.032</td>\n",
       "      <td>2.500</td>\n",
       "      <td>1426.19</td>\n",
       "      <td>0.712010</td>\n",
       "      <td>2403.908182</td>\n",
       "    </tr>\n",
       "    <tr>\n",
       "      <th>1986-01-22</th>\n",
       "      <td>719542.0</td>\n",
       "      <td>13.856</td>\n",
       "      <td>2.500</td>\n",
       "      <td>1426.19</td>\n",
       "      <td>0.703186</td>\n",
       "      <td>2411.930000</td>\n",
       "    </tr>\n",
       "    <tr>\n",
       "      <th>1986-01-29</th>\n",
       "      <td>719542.0</td>\n",
       "      <td>17.487</td>\n",
       "      <td>2.500</td>\n",
       "      <td>1426.19</td>\n",
       "      <td>0.699555</td>\n",
       "      <td>2415.230909</td>\n",
       "    </tr>\n",
       "    <tr>\n",
       "      <th>1986-02-05</th>\n",
       "      <td>719542.0</td>\n",
       "      <td>12.475</td>\n",
       "      <td>2.500</td>\n",
       "      <td>1426.19</td>\n",
       "      <td>0.704567</td>\n",
       "      <td>2410.674545</td>\n",
       "    </tr>\n",
       "    <tr>\n",
       "      <th>...</th>\n",
       "      <td>...</td>\n",
       "      <td>...</td>\n",
       "      <td>...</td>\n",
       "      <td>...</td>\n",
       "      <td>...</td>\n",
       "      <td>...</td>\n",
       "    </tr>\n",
       "    <tr>\n",
       "      <th>2022-12-26</th>\n",
       "      <td>8551169.0</td>\n",
       "      <td>427.926</td>\n",
       "      <td>2221.259</td>\n",
       "      <td>3829.25</td>\n",
       "      <td>5.901984</td>\n",
       "      <td>88.810000</td>\n",
       "    </tr>\n",
       "    <tr>\n",
       "      <th>2022-12-27</th>\n",
       "      <td>8551169.0</td>\n",
       "      <td>427.926</td>\n",
       "      <td>2221.259</td>\n",
       "      <td>3829.25</td>\n",
       "      <td>5.901984</td>\n",
       "      <td>88.810000</td>\n",
       "    </tr>\n",
       "    <tr>\n",
       "      <th>2022-12-28</th>\n",
       "      <td>8551169.0</td>\n",
       "      <td>427.926</td>\n",
       "      <td>2293.003</td>\n",
       "      <td>3783.22</td>\n",
       "      <td>5.830240</td>\n",
       "      <td>108.001818</td>\n",
       "    </tr>\n",
       "    <tr>\n",
       "      <th>2022-12-29</th>\n",
       "      <td>8551169.0</td>\n",
       "      <td>427.926</td>\n",
       "      <td>2308.319</td>\n",
       "      <td>3849.28</td>\n",
       "      <td>5.814924</td>\n",
       "      <td>187.985455</td>\n",
       "    </tr>\n",
       "    <tr>\n",
       "      <th>2022-12-30</th>\n",
       "      <td>8551169.0</td>\n",
       "      <td>427.926</td>\n",
       "      <td>2553.716</td>\n",
       "      <td>3839.50</td>\n",
       "      <td>5.569527</td>\n",
       "      <td>401.293636</td>\n",
       "    </tr>\n",
       "  </tbody>\n",
       "</table>\n",
       "<p>6083 rows × 6 columns</p>\n",
       "</div>"
      ],
      "text/plain": [
       "                WALCL  WTREGEN  RRPONTSYD    SP500   NET_LIQ        SP_FV\n",
       "index                                                                    \n",
       "1986-01-08   719542.0    4.140      2.500  1426.19  0.712902  2403.097273\n",
       "1986-01-15   719542.0    5.032      2.500  1426.19  0.712010  2403.908182\n",
       "1986-01-22   719542.0   13.856      2.500  1426.19  0.703186  2411.930000\n",
       "1986-01-29   719542.0   17.487      2.500  1426.19  0.699555  2415.230909\n",
       "1986-02-05   719542.0   12.475      2.500  1426.19  0.704567  2410.674545\n",
       "...               ...      ...        ...      ...       ...          ...\n",
       "2022-12-26  8551169.0  427.926   2221.259  3829.25  5.901984    88.810000\n",
       "2022-12-27  8551169.0  427.926   2221.259  3829.25  5.901984    88.810000\n",
       "2022-12-28  8551169.0  427.926   2293.003  3783.22  5.830240   108.001818\n",
       "2022-12-29  8551169.0  427.926   2308.319  3849.28  5.814924   187.985455\n",
       "2022-12-30  8551169.0  427.926   2553.716  3839.50  5.569527   401.293636\n",
       "\n",
       "[6083 rows x 6 columns]"
      ]
     },
     "execution_count": 49,
     "metadata": {},
     "output_type": "execute_result"
    }
   ],
   "source": [
    "fred_df"
   ]
  },
  {
   "cell_type": "code",
   "execution_count": 32,
   "id": "4e77f4a1",
   "metadata": {},
   "outputs": [
    {
     "data": {
      "text/plain": [
       "<AxesSubplot: xlabel='index'>"
      ]
     },
     "execution_count": 32,
     "metadata": {},
     "output_type": "execute_result"
    },
    {
     "data": {
      "image/png": "[encoded data removed]",
      "text/plain": [
       "<Figure size 640x480 with 1 Axes>"
      ]
     },
     "metadata": {},
     "output_type": "display_data"
    }
   ],
   "source": [
    "fred_df['SP_FV'].tail(250).plot()"
   ]
  },
  {
   "cell_type": "code",
   "execution_count": null,
   "id": "47ebba50",
   "metadata": {},
   "outputs": [],
   "source": [
    "def fred_importer():\n",
    "    "
   ]
  },
  {
   "cell_type": "code",
   "execution_count": null,
   "id": "f2ea8e77",
   "metadata": {},
   "outputs": [],
   "source": [
    "fred_ids = ['WALCL','WTREGEN', 'RRPONTSYD', 'SP500', ]"
   ]
  },
  {
   "cell_type": "code",
   "execution_count": 11,
   "id": "adadd18d",
   "metadata": {},
   "outputs": [
    {
     "ename": "TypeError",
     "evalue": "NDFrame.to_sql() missing 1 required positional argument: 'con'",
     "output_type": "error",
     "traceback": [
      "\u001b[1;31m---------------------------------------------------------------------------\u001b[0m",
      "\u001b[1;31mTypeError\u001b[0m                                 Traceback (most recent call last)",
      "Cell \u001b[1;32mIn [11], line 1\u001b[0m\n\u001b[1;32m----> 1\u001b[0m \u001b[43mdf\u001b[49m\u001b[38;5;241;43m.\u001b[39;49m\u001b[43mto_sql\u001b[49m\u001b[43m(\u001b[49m\u001b[43mengine\u001b[49m\u001b[43m)\u001b[49m\n",
      "\u001b[1;31mTypeError\u001b[0m: NDFrame.to_sql() missing 1 required positional argument: 'con'"
     ]
    }
   ],
   "source": [
    "df.to_sql(engine)"
   ]
  },
  {
   "cell_type": "code",
   "execution_count": 37,
   "id": "1bd1814a",
   "metadata": {},
   "outputs": [
    {
     "data": {
      "text/plain": [
       "2013-08-14    3646323.0\n",
       "2013-08-21    3645668.0\n",
       "2013-08-28    3644456.0\n",
       "2013-09-04    3654182.0\n",
       "2013-09-11    3662035.0\n",
       "                ...    \n",
       "2022-11-30    8584576.0\n",
       "2022-12-07    8582735.0\n",
       "2022-12-14    8583413.0\n",
       "2022-12-21    8564411.0\n",
       "2022-12-28    8551169.0\n",
       "Length: 490, dtype: float64"
      ]
     },
     "execution_count": 37,
     "metadata": {},
     "output_type": "execute_result"
    }
   ],
   "source": [
    "fred.get_series(series_id='WALCL', observation_start=\"2013-08-14\")"
   ]
  },
  {
   "cell_type": "code",
   "execution_count": null,
   "id": "01f6b52e",
   "metadata": {},
   "outputs": [],
   "source": [
    "def sql_importer(symbol, start='2022-01-01'):\n",
    "    try:\n",
    "        max_date = pd.read_sql(f'SELECT MAX(Date) FROM {symbol}', engine).values[0][0]\n",
    "        print(max_date)\n",
    "        new_data = yf.download(symbol, start=pd.to_datetime(max_date))\n",
    "        new_rows = new_data[new_data.index > max_date]\n",
    "        new_rows.to_sql(symbol, engine, if_exists='append')\n",
    "        print(str(len(new_rows)) + ' new rows imported to DB')\n",
    "    except:\n",
    "        new_data = yf.download(symbol, start=start)\n",
    "        new_data.to_sql(symbol, engine)\n",
    "        print(f'New table created for {symbol} with {str(len(new_data))} rows')"
   ]
  }
 ],
 "metadata": {
  "kernelspec": {
   "display_name": "Python 3 (ipykernel)",
   "language": "python",
   "name": "python3"
  },
  "language_info": {
   "codemirror_mode": {
    "name": "ipython",
    "version": 3
   },
   "file_extension": ".py",
   "mimetype": "text/x-python",
   "name": "python",
   "nbconvert_exporter": "python",
   "pygments_lexer": "ipython3",
   "version": "3.11.0"
  }
 },
 "nbformat": 4,
 "nbformat_minor": 5
}
